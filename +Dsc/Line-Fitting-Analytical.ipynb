{
 "cells": [
  {
   "cell_type": "markdown",
   "metadata": {},
   "source": [
    "## Analytical Posterior"
   ]
  },
  {
   "cell_type": "code",
   "execution_count": 1,
   "metadata": {},
   "outputs": [],
   "source": [
    "%matplotlib inline\n",
    "import numpy as np\n",
    "import matplotlib.pyplot as plt\n",
    "from scipy import stats as st"
   ]
  },
  {
   "cell_type": "code",
   "execution_count": 3,
   "metadata": {},
   "outputs": [],
   "source": [
    "N = 10000\n",
    "\n",
    "alpha_true_mean = 1.5\n",
    "beta_true_mean = 2 \n",
    "\n",
    "alpha_true_var = .5\n",
    "\n",
    "beta_true_var = .5\n",
    "\n",
    "alpha_true = np.random.normal(alpha_true_mean, alpha_true_var, N)\n",
    "beta_true = np.random.normal(beta_true_mean, beta_true_var, N)\n",
    "err = 0.4\n",
    "\n",
    "\n",
    "\n",
    "# alpha_true = 1.5\n",
    "# beta_true = 2\n",
    "# err = 0.4\n",
    "\n",
    "x = np.random.uniform(0, 2, N)\n",
    "\n",
    "y = alpha_true * x + beta_true + np.random.randn(np.size(x)) * err\n",
    "\n",
    "alpha = np.linspace(-10+alpha_true_mean, 10+alpha_true_mean, 300)\n",
    "beta = np.linspace(-10+beta_true_mean, 10+beta_true_mean, 300)\n",
    "\n",
    "prior = {'mu_alpha': 3, 'var_alpha': 5, 'mu_beta': 2.5, 'var_beta': 5} \n"
   ]
  },
  {
   "cell_type": "code",
   "execution_count": 4,
   "metadata": {},
   "outputs": [],
   "source": [
    "posterior = np.empty([np.size(alpha), np.size(beta)])\n",
    "likelihood = np.empty([np.size(alpha), np.size(beta)])"
   ]
  },
  {
   "cell_type": "code",
   "execution_count": 5,
   "metadata": {},
   "outputs": [],
   "source": [
    "def posterior_calc(a, b):\n",
    "    dy = y - a * x - b\n",
    "    \n",
    "    ivar = 1 / err**2\n",
    "    lnlikeli =  -0.5 * (N* np.log(2*np.pi) + np.sum(2*np.log(err)) + np.sum(dy**2 * ivar))\n",
    "    lnprior_a = -.5 * (a - prior['mu_alpha'])**2 / prior['var_alpha']**2\n",
    "    lnprior_b = -.5 * (b - prior['mu_beta'])**2  / prior['var_beta']**2\n",
    "#     lnprior_s = -.5 * (s-prior['mu_err'])**2  / prior['var_err']**2\n",
    "    lnposterior = lnlikeli + lnprior_a + lnprior_b #+ lnprior_s\n",
    "    if np.isnan(lnposterior):\n",
    "        lnposterior = -np.inf\n",
    "    if np.isnan(lnlikeli):\n",
    "        lnlikeli = -np.inf\n",
    "    return lnlikeli, lnposterior"
   ]
  },
  {
   "cell_type": "code",
   "execution_count": 6,
   "metadata": {},
   "outputs": [],
   "source": [
    "for ia, a in enumerate(alpha):\n",
    "    for ib, b in enumerate(beta):\n",
    "            likelihood[ia][ib], posterior[ia][ib] = posterior_calc(a, b)"
   ]
  },
  {
   "cell_type": "code",
   "execution_count": 7,
   "metadata": {},
   "outputs": [],
   "source": [
    "# posterior_sigma = np.sum(posterior, 0)\n",
    "# posterior_beta = posterior_beta\n",
    "\n",
    "posterior_beta = np.sum(posterior, 0)\n",
    "# posterior_alpha = proto_posterior_alpha\n",
    "\n",
    "posterior_alpha = np.sum(posterior, 1)"
   ]
  },
  {
   "cell_type": "code",
   "execution_count": 8,
   "metadata": {},
   "outputs": [
    {
     "data": {
      "text/plain": [
       "[<matplotlib.lines.Line2D at 0x1a23e83978>]"
      ]
     },
     "execution_count": 8,
     "metadata": {},
     "output_type": "execute_result"
    },
    {
     "data": {
      "image/png": "[encoded data removed]",
      "text/plain": [
       "<Figure size 432x288 with 3 Axes>"
      ]
     },
     "metadata": {
      "needs_background": "light"
     },
     "output_type": "display_data"
    }
   ],
   "source": [
    "fig, [ax1, ax2, ax3] = plt.subplots(nrows=1, ncols=3)\n",
    "ax1.plot(alpha, posterior_alpha)\n",
    "ax2.plot(beta, posterior_beta)\n",
    "# ax3.plot(sigma, posterior_sigma)"
   ]
  },
  {
   "cell_type": "code",
   "execution_count": 9,
   "metadata": {},
   "outputs": [
    {
     "ename": "AttributeError",
     "evalue": "module 'matplotlib.pyplot' has no attribute 'cop'",
     "output_type": "error",
     "traceback": [
      "\u001b[0;31m---------------------------------------------------------------------------\u001b[0m",
      "\u001b[0;31mAttributeError\u001b[0m                            Traceback (most recent call last)",
      "\u001b[0;32m<ipython-input-9-fc932b4d1ee7>\u001b[0m in \u001b[0;36m<module>\u001b[0;34m\u001b[0m\n\u001b[1;32m     13\u001b[0m \u001b[0;34m\u001b[0m\u001b[0m\n\u001b[1;32m     14\u001b[0m \u001b[0maxes\u001b[0m\u001b[0;34m[\u001b[0m\u001b[0;36m1\u001b[0m\u001b[0;34m]\u001b[0m\u001b[0;34m.\u001b[0m\u001b[0mpcolormesh\u001b[0m\u001b[0;34m(\u001b[0m\u001b[0malpha\u001b[0m\u001b[0;34m,\u001b[0m \u001b[0mbeta\u001b[0m\u001b[0;34m,\u001b[0m \u001b[0mtrue_prior\u001b[0m\u001b[0;34m,\u001b[0m \u001b[0mcmap\u001b[0m\u001b[0;34m=\u001b[0m\u001b[0;34m'Blues'\u001b[0m\u001b[0;34m)\u001b[0m\u001b[0;34m\u001b[0m\u001b[0;34m\u001b[0m\u001b[0m\n\u001b[0;32m---> 15\u001b[0;31m \u001b[0maxes\u001b[0m\u001b[0;34m[\u001b[0m\u001b[0;36m2\u001b[0m\u001b[0;34m]\u001b[0m \u001b[0;34m=\u001b[0m \u001b[0mplt\u001b[0m\u001b[0;34m.\u001b[0m\u001b[0mcop\u001b[0m\u001b[0;34m\u001b[0m\u001b[0;34m\u001b[0m\u001b[0m\n\u001b[0m",
      "\u001b[0;31mAttributeError\u001b[0m: module 'matplotlib.pyplot' has no attribute 'cop'"
     ]
    },
    {
     "data": {
      "image/png": "[encoded data removed]",
      "text/plain": [
       "<Figure size 1008x367.2 with 3 Axes>"
      ]
     },
     "metadata": {
      "needs_background": "light"
     },
     "output_type": "display_data"
    }
   ],
   "source": [
    "fig,axes = plt.subplots(1, 3, figsize=(14,5.1), sharex=True, sharey=True)\n",
    "\n",
    "axes[0].pcolormesh(alpha, beta, posterior, cmap='Blues', vmin=posterior.max()-1024, vmax=posterior.max())\n",
    "axes[0].plot(alpha_true_mean, beta_true_mean, marker = 'o', zorder=10)\n",
    "\n",
    "true_prior_var = st.multivariate_normal(mean=[alpha_true_mean, beta_true_mean], cov=[[alpha_true_var, 0], [0, beta_true_var]])\n",
    "\n",
    "true_prior = np.empty([np.size(alpha), np.size(beta)])\n",
    "\n",
    "for ia, a in enumerate(alpha):\n",
    "    for ib, b in enumerate(beta):\n",
    "        true_prior[ia][ib] = true_prior_var.pdf([a, b])\n",
    "\n",
    "axes[1].pcolormesh(alpha, beta, true_prior, cmap='Blues')\n",
    "axes[2] = plt.cop"
   ]
  },
  {
   "cell_type": "code",
   "execution_count": 25,
   "metadata": {},
   "outputs": [
    {
     "data": {
      "text/plain": [
       "4.420669830983553e-12"
      ]
     },
     "execution_count": 25,
     "metadata": {},
     "output_type": "execute_result"
    }
   ],
   "source": [
    "true_prior_var.pdf([alpha_true_mean, beta_true_mean+5])"
   ]
  },
  {
   "cell_type": "code",
   "execution_count": 26,
   "metadata": {},
   "outputs": [
    {
     "ename": "NameError",
     "evalue": "name 'alpha_grid' is not defined",
     "output_type": "error",
     "traceback": [
      "\u001b[0;31m---------------------------------------------------------------------------\u001b[0m",
      "\u001b[0;31mNameError\u001b[0m                                 Traceback (most recent call last)",
      "\u001b[0;32m<ipython-input-26-e6a8ad2b3542>\u001b[0m in \u001b[0;36m<module>\u001b[0;34m\u001b[0m\n\u001b[0;32m----> 1\u001b[0;31m \u001b[0malpha_grid\u001b[0m\u001b[0;34m\u001b[0m\u001b[0;34m\u001b[0m\u001b[0m\n\u001b[0m",
      "\u001b[0;31mNameError\u001b[0m: name 'alpha_grid' is not defined"
     ]
    }
   ],
   "source": [
    "alpha_grid"
   ]
  },
  {
   "cell_type": "code",
   "execution_count": null,
   "metadata": {},
   "outputs": [],
   "source": [
    "np.shape(np.outer(alpha_true, beta_true))"
   ]
  },
  {
   "cell_type": "code",
   "execution_count": null,
   "metadata": {},
   "outputs": [],
   "source": [
    "alpha_beta_true"
   ]
  },
  {
   "cell_type": "code",
   "execution_count": null,
   "metadata": {},
   "outputs": [],
   "source": []
  }
 ],
 "metadata": {
  "kernelspec": {
   "display_name": "Python 3",
   "language": "python",
   "name": "python3"
  },
  "language_info": {
   "codemirror_mode": {
    "name": "ipython",
    "version": 3
   },
   "file_extension": ".py",
   "mimetype": "text/x-python",
   "name": "python",
   "nbconvert_exporter": "python",
   "pygments_lexer": "ipython3",
   "version": "3.7.1"
  },
  "toc": {
   "base_numbering": 1,
   "nav_menu": {},
   "number_sections": true,
   "sideBar": true,
   "skip_h1_title": false,
   "title_cell": "Table of Contents",
   "title_sidebar": "Contents",
   "toc_cell": false,
   "toc_position": {},
   "toc_section_display": true,
   "toc_window_display": false
  }
 },
 "nbformat": 4,
 "nbformat_minor": 2
}
