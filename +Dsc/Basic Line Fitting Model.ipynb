{
 "cells": [
  {
   "cell_type": "markdown",
   "metadata": {},
   "source": [
    "# Trying things out with PyMC3 Part 2 Copy 1"
   ]
  },
  {
   "cell_type": "markdown",
   "metadata": {
    "heading_collapsed": true
   },
   "source": [
    "## Generating observations\n",
    "\n",
    "For our test problem, we'll do a three-parameter model which fits a straight line to data. The parameters will be the slope, the intercept, and the scatter about the line; the scatter in this case will be treated as a nuisance parameter.\n",
    "\n",
    "$\\hat{y} = f(x | \\alpha, \\beta) = \\alpha x_i + \\beta$\n",
    "\n",
    "\n",
    "with Gaussian noise on the observed values,\n",
    "\n",
    "$ P(x_i, y_i | \\alpha, \\beta, \\sigma) = \\frac{1}{\\sqrt{2\\pi\\sigma^2}} \\exp [\\frac{-(y_i - \\hat{y_i})^2}{2\\sigma^2}] $\n",
    "\n",
    "$ \\forall i$, likelihood function becomes:\n",
    "\n",
    "$ P(x, y | \\alpha, \\beta, \\sigma) = (2\\pi\\sigma^2) ^ {-N/2} \\exp [\\frac{1}{2\\sigma^2} \\sum_{i=1}^{N} -(y_i - \\hat{y_i})^2] $"
   ]
  },
  {
   "cell_type": "code",
   "execution_count": 10,
   "metadata": {
    "cell_style": "center",
    "hidden": true
   },
   "outputs": [
    {
     "data": {
      "image/png": "[encoded data removed]",
      "text/plain": [
       "<Figure size 432x288 with 1 Axes>"
      ]
     },
     "metadata": {
      "needs_background": "light"
     },
     "output_type": "display_data"
    }
   ],
   "source": [
    "import numpy as np\n",
    "import matplotlib.pyplot as plt\n",
    "\n",
    "np.random.seed(42)\n",
    "\n",
    "# slope, intercept, variance\n",
    "true_params = np.array([0.5, -2, 0.2])\n",
    "\n",
    "N = 1000\n",
    "t = np.linspace(0, 10, 2)\n",
    "x = np.random.uniform(0, 10, N) # we are limiting the data generation from 0 to 10\n",
    "y = x * true_params[0] + true_params[1]\n",
    "y_obs = y + true_params[-1] * np.random.randn(N)\n",
    "\n",
    "plt.plot(x, y_obs, \".k\", label=\"observations\")\n",
    "plt.plot(t, true_params[0]*t + true_params[1], label=\"truth\")\n",
    "plt.xlabel(\"x\")\n",
    "plt.ylabel(\"y\")\n",
    "plt.legend(fontsize=14);"
   ]
  },
  {
   "cell_type": "markdown",
   "metadata": {},
   "source": [
    "## Defining the model in PyMC3"
   ]
  },
  {
   "cell_type": "code",
   "execution_count": 11,
   "metadata": {
    "cell_style": "center"
   },
   "outputs": [
    {
     "name": "stderr",
     "output_type": "stream",
     "text": [
      "Warning: Could not load \"/Users/hahuja/opt/anaconda3/envs/bayes3/lib/graphviz/libgvplugin_pango.6.dylib\" - file not found\n"
     ]
    },
    {
     "data": {
      "image/svg+xml": [
       "<?xml version=\"1.0\" encoding=\"UTF-8\" standalone=\"no\"?>\n",
       "<!DOCTYPE svg PUBLIC \"-//W3C//DTD SVG 1.1//EN\"\n",
       " \"http://www.w3.org/Graphics/SVG/1.1/DTD/svg11.dtd\">\n",
       "<!-- Generated by graphviz version 2.40.1 (20161225.0304)\n",
       " -->\n",
       "<!-- Title: %3 Pages: 1 -->\n",
       "<svg width=\"437pt\" height=\"301pt\"\n",
       " viewBox=\"0.00 0.00 437.14 300.80\" xmlns=\"http://www.w3.org/2000/svg\" xmlns:xlink=\"http://www.w3.org/1999/xlink\">\n",
       "<g id=\"graph0\" class=\"graph\" transform=\"scale(1 1) rotate(0) translate(4 296.8)\">\n",
       "<title>%3</title>\n",
       "<polygon fill=\"#ffffff\" stroke=\"transparent\" points=\"-4,4 -4,-296.8 433.1367,-296.8 433.1367,4 -4,4\"/>\n",
       "<g id=\"clust1\" class=\"cluster\">\n",
       "<title>cluster1,000</title>\n",
       "<path fill=\"none\" stroke=\"#000000\" d=\"M201.8087,-8C201.8087,-8 341.8087,-8 341.8087,-8 347.8087,-8 353.8087,-14 353.8087,-20 353.8087,-20 353.8087,-144.8 353.8087,-144.8 353.8087,-150.8 347.8087,-156.8 341.8087,-156.8 341.8087,-156.8 201.8087,-156.8 201.8087,-156.8 195.8087,-156.8 189.8087,-150.8 189.8087,-144.8 189.8087,-144.8 189.8087,-20 189.8087,-20 189.8087,-14 195.8087,-8 201.8087,-8\"/>\n",
       "<text text-anchor=\"middle\" x=\"330.0587\" y=\"-16.2\" font-family=\"Times,serif\" font-size=\"14.00\" fill=\"#000000\">1,000</text>\n",
       "</g>\n",
       "<!-- sigma -->\n",
       "<g id=\"node1\" class=\"node\">\n",
       "<title>sigma</title>\n",
       "<ellipse fill=\"none\" stroke=\"#000000\" cx=\"90.8087\" cy=\"-130.8\" rx=\"90.6177\" ry=\"18\"/>\n",
       "<text text-anchor=\"middle\" x=\"90.8087\" y=\"-126.6\" font-family=\"Times,serif\" font-size=\"14.00\" fill=\"#000000\">sigma ~ HalfNormal</text>\n",
       "</g>\n",
       "<!-- y_obs -->\n",
       "<g id=\"node6\" class=\"node\">\n",
       "<title>y_obs</title>\n",
       "<ellipse fill=\"#d3d3d3\" stroke=\"#000000\" cx=\"271.8087\" cy=\"-58.8\" rx=\"73.8104\" ry=\"18\"/>\n",
       "<text text-anchor=\"middle\" x=\"271.8087\" y=\"-54.6\" font-family=\"Times,serif\" font-size=\"14.00\" fill=\"#000000\">y_obs ~ Normal</text>\n",
       "</g>\n",
       "<!-- sigma&#45;&gt;y_obs -->\n",
       "<g id=\"edge5\" class=\"edge\">\n",
       "<title>sigma&#45;&gt;y_obs</title>\n",
       "<path fill=\"none\" stroke=\"#000000\" d=\"M131.4286,-114.6418C158.7722,-103.7648 194.9505,-89.3734 223.731,-77.9248\"/>\n",
       "<polygon fill=\"#000000\" stroke=\"#000000\" points=\"225.1862,-81.1128 233.1843,-74.1644 222.5988,-74.6085 225.1862,-81.1128\"/>\n",
       "</g>\n",
       "<!-- beta -->\n",
       "<g id=\"node2\" class=\"node\">\n",
       "<title>beta</title>\n",
       "<polygon fill=\"none\" stroke=\"#000000\" points=\"258.9003,-220.8 128.717,-220.8 128.717,-184.8 258.9003,-184.8 258.9003,-220.8\"/>\n",
       "<text text-anchor=\"middle\" x=\"193.8087\" y=\"-198.6\" font-family=\"Times,serif\" font-size=\"14.00\" fill=\"#000000\">beta ~ Deterministic</text>\n",
       "</g>\n",
       "<!-- mu -->\n",
       "<g id=\"node7\" class=\"node\">\n",
       "<title>mu</title>\n",
       "<polygon fill=\"none\" stroke=\"#000000\" points=\"333.9715,-148.8 209.6458,-148.8 209.6458,-112.8 333.9715,-112.8 333.9715,-148.8\"/>\n",
       "<text text-anchor=\"middle\" x=\"271.8087\" y=\"-126.6\" font-family=\"Times,serif\" font-size=\"14.00\" fill=\"#000000\">mu ~ Deterministic</text>\n",
       "</g>\n",
       "<!-- beta&#45;&gt;mu -->\n",
       "<g id=\"edge4\" class=\"edge\">\n",
       "<title>beta&#45;&gt;mu</title>\n",
       "<path fill=\"none\" stroke=\"#000000\" d=\"M213.4914,-184.6314C222.9138,-175.9337 234.3488,-165.3783 244.5883,-155.9265\"/>\n",
       "<polygon fill=\"#000000\" stroke=\"#000000\" points=\"247.1582,-158.3175 252.1323,-148.9628 242.4102,-153.1738 247.1582,-158.3175\"/>\n",
       "</g>\n",
       "<!-- beta_ -->\n",
       "<g id=\"node3\" class=\"node\">\n",
       "<title>beta_</title>\n",
       "<ellipse fill=\"none\" stroke=\"#000000\" cx=\"186.8087\" cy=\"-274.8\" rx=\"71.4992\" ry=\"18\"/>\n",
       "<text text-anchor=\"middle\" x=\"186.8087\" y=\"-270.6\" font-family=\"Times,serif\" font-size=\"14.00\" fill=\"#000000\">beta_ ~ Normal</text>\n",
       "</g>\n",
       "<!-- beta_&#45;&gt;beta -->\n",
       "<g id=\"edge2\" class=\"edge\">\n",
       "<title>beta_&#45;&gt;beta</title>\n",
       "<path fill=\"none\" stroke=\"#000000\" d=\"M188.5751,-256.6314C189.3237,-248.931 190.2139,-239.7743 191.0459,-231.2166\"/>\n",
       "<polygon fill=\"#000000\" stroke=\"#000000\" points=\"194.5343,-231.5051 192.0185,-221.2133 187.5672,-230.8276 194.5343,-231.5051\"/>\n",
       "</g>\n",
       "<!-- alpha -->\n",
       "<g id=\"node4\" class=\"node\">\n",
       "<title>alpha</title>\n",
       "<polygon fill=\"none\" stroke=\"#000000\" points=\"417.4003,-220.8 280.217,-220.8 280.217,-184.8 417.4003,-184.8 417.4003,-220.8\"/>\n",
       "<text text-anchor=\"middle\" x=\"348.8087\" y=\"-198.6\" font-family=\"Times,serif\" font-size=\"14.00\" fill=\"#000000\">alpha ~ Deterministic</text>\n",
       "</g>\n",
       "<!-- alpha&#45;&gt;mu -->\n",
       "<g id=\"edge3\" class=\"edge\">\n",
       "<title>alpha&#45;&gt;mu</title>\n",
       "<path fill=\"none\" stroke=\"#000000\" d=\"M329.3783,-184.6314C320.0767,-175.9337 308.7883,-165.3783 298.6801,-155.9265\"/>\n",
       "<polygon fill=\"#000000\" stroke=\"#000000\" points=\"300.9276,-153.2363 291.2328,-148.9628 296.1466,-158.3493 300.9276,-153.2363\"/>\n",
       "</g>\n",
       "<!-- alpha_ -->\n",
       "<g id=\"node5\" class=\"node\">\n",
       "<title>alpha_</title>\n",
       "<ellipse fill=\"none\" stroke=\"#000000\" cx=\"352.8087\" cy=\"-274.8\" rx=\"76.1565\" ry=\"18\"/>\n",
       "<text text-anchor=\"middle\" x=\"352.8087\" y=\"-270.6\" font-family=\"Times,serif\" font-size=\"14.00\" fill=\"#000000\">alpha_ ~ Normal</text>\n",
       "</g>\n",
       "<!-- alpha_&#45;&gt;alpha -->\n",
       "<g id=\"edge1\" class=\"edge\">\n",
       "<title>alpha_&#45;&gt;alpha</title>\n",
       "<path fill=\"none\" stroke=\"#000000\" d=\"M351.7993,-256.6314C351.3715,-248.931 350.8628,-239.7743 350.3874,-231.2166\"/>\n",
       "<polygon fill=\"#000000\" stroke=\"#000000\" points=\"353.881,-231.0037 349.8316,-221.2133 346.8918,-231.392 353.881,-231.0037\"/>\n",
       "</g>\n",
       "<!-- mu&#45;&gt;y_obs -->\n",
       "<g id=\"edge6\" class=\"edge\">\n",
       "<title>mu&#45;&gt;y_obs</title>\n",
       "<path fill=\"none\" stroke=\"#000000\" d=\"M271.8087,-112.6314C271.8087,-104.931 271.8087,-95.7743 271.8087,-87.2166\"/>\n",
       "<polygon fill=\"#000000\" stroke=\"#000000\" points=\"275.3088,-87.2132 271.8087,-77.2133 268.3088,-87.2133 275.3088,-87.2132\"/>\n",
       "</g>\n",
       "</g>\n",
       "</svg>\n"
      ],
      "text/plain": [
       "<graphviz.dot.Digraph at 0x1a30f74e80>"
      ]
     },
     "execution_count": 11,
     "metadata": {},
     "output_type": "execute_result"
    }
   ],
   "source": [
    "import pymc3 as pm\n",
    "import theano\n",
    "\n",
    "x_shared = theano.shared(x)\n",
    "\n",
    "with pm.Model() as lineFittingModel:\n",
    "    \n",
    "    alpha_ = pm.Normal('alpha_', mu=0, sigma=10)\n",
    "    beta_ = pm.Normal('beta_', mu=0, sigma=10)\n",
    "    sigma = pm.HalfNormal('sigma', sigma=1)\n",
    "    \n",
    "    alpha = pm.Deterministic(\"alpha\", alpha_)\n",
    "    beta = pm.Deterministic(\"beta\", beta_)\n",
    "    mu_calc = alpha * x_shared + beta\n",
    "    mu = pm.Deterministic(\"mu\", mu_calc)\n",
    "#     mu = \n",
    "    # Likelihood (sampling distribution) of observations\n",
    "    Y_obs = pm.Normal('y_obs', mu = mu , sigma=sigma, observed=y_obs)\n",
    "pm.model_to_graphviz(lineFittingModel)"
   ]
  },
  {
   "cell_type": "markdown",
   "metadata": {
    "heading_collapsed": true
   },
   "source": [
    "## MAP Estimate"
   ]
  },
  {
   "cell_type": "code",
   "execution_count": null,
   "metadata": {
    "hidden": true
   },
   "outputs": [],
   "source": [
    "map_estimate = pm.find_MAP(model=lineFittingModel)\n",
    "\n",
    "map_estimate"
   ]
  },
  {
   "cell_type": "markdown",
   "metadata": {
    "heading_collapsed": true
   },
   "source": [
    "## NUTS Sampler"
   ]
  },
  {
   "cell_type": "code",
   "execution_count": null,
   "metadata": {
    "hidden": true
   },
   "outputs": [],
   "source": [
    "with lineFittingModel:\n",
    "    trace = pm.sample(draws=2000, tune = 2000)"
   ]
  },
  {
   "cell_type": "code",
   "execution_count": null,
   "metadata": {
    "hidden": true
   },
   "outputs": [],
   "source": [
    "pm.plot_posterior(trace, var_names=['alpha', 'beta', 'sigma'], ref_val=list(true_params), kind=\"%hist\")"
   ]
  },
  {
   "cell_type": "code",
   "execution_count": null,
   "metadata": {
    "hidden": true
   },
   "outputs": [],
   "source": [
    "import corner\n",
    "samples = np.vstack([trace[k] for k in [\"alpha\", \"beta\", \"sigma\"]]).T\n",
    "corner.corner(samples, truths=true_params);"
   ]
  },
  {
   "cell_type": "code",
   "execution_count": null,
   "metadata": {
    "hidden": true
   },
   "outputs": [],
   "source": [
    "pm.plot_trace(trace, var_names=['alpha', 'beta', 'sigma'])"
   ]
  },
  {
   "cell_type": "markdown",
   "metadata": {
    "heading_collapsed": true
   },
   "source": [
    "## MCMC"
   ]
  },
  {
   "cell_type": "code",
   "execution_count": null,
   "metadata": {
    "hidden": true
   },
   "outputs": [],
   "source": [
    "import theano\n",
    "\n",
    "f = theano.function(lineFittingModel.vars, [lineFittingModel.logpt] + lineFittingModel.deterministics)\n",
    "    \n",
    "def log_prob_func(params):\n",
    "    dct = lineFittingModel.bijection.rmap(params)\n",
    "    args = (dct[k.name] for k in lineFittingModel.vars)\n",
    "    results = f(*args)\n",
    "    return tuple(results)"
   ]
  },
  {
   "cell_type": "code",
   "execution_count": null,
   "metadata": {
    "hidden": true
   },
   "outputs": [],
   "source": [
    "[lineFittingModel.logpt] + lineFittingModel.deterministics"
   ]
  },
  {
   "cell_type": "code",
   "execution_count": null,
   "metadata": {
    "hidden": true
   },
   "outputs": [],
   "source": [
    "with lineFittingModel:\n",
    "    res = pm.find_MAP()"
   ]
  },
  {
   "cell_type": "code",
   "execution_count": null,
   "metadata": {
    "hidden": true
   },
   "outputs": [],
   "source": [
    "vec = lineFittingModel.bijection.map(res)"
   ]
  },
  {
   "cell_type": "code",
   "execution_count": null,
   "metadata": {
    "hidden": true
   },
   "outputs": [],
   "source": [
    "dct = lineFittingModel.bijection.rmap(vec)"
   ]
  },
  {
   "cell_type": "code",
   "execution_count": null,
   "metadata": {
    "hidden": true
   },
   "outputs": [],
   "source": [
    "args = (dct[k.name] for k in lineFittingModel.vars)"
   ]
  },
  {
   "cell_type": "code",
   "execution_count": null,
   "metadata": {
    "hidden": true
   },
   "outputs": [],
   "source": [
    "lineFittingModel.observed_RVs"
   ]
  },
  {
   "cell_type": "code",
   "execution_count": null,
   "metadata": {
    "hidden": true
   },
   "outputs": [],
   "source": [
    "f2 = theano.function(lineFittingModel.vars, lineFittingModel.)"
   ]
  },
  {
   "cell_type": "code",
   "execution_count": null,
   "metadata": {
    "hidden": true
   },
   "outputs": [],
   "source": [
    "import emcee\n",
    "\n",
    "with lineFittingModel:\n",
    "    # First we work out the shapes of all of the deterministic variables\n",
    "    res = pm.find_MAP()\n",
    "    vec = lineFittingModel.bijection.map(res)\n",
    "    initial_blobs = log_prob_func(vec)[1:]\n",
    "    dtype = [(var.name, float, np.shape(b)) for var, b in zip(lineFittingModel.deterministics, initial_blobs)]\n",
    "    \n",
    "    # Then sample as usual\n",
    "    coords = vec + 1e-5 * np.random.randn(25, len(vec))\n",
    "    nwalkers, ndim = coords.shape\n",
    "    sampler = emcee.EnsembleSampler(nwalkers, ndim, log_prob_func, blobs_dtype=dtype)\n",
    "    sampler.run_mcmc(coords, 5000, progress=True)"
   ]
  },
  {
   "cell_type": "code",
   "execution_count": null,
   "metadata": {
    "hidden": true
   },
   "outputs": [],
   "source": []
  },
  {
   "cell_type": "code",
   "execution_count": null,
   "metadata": {
    "hidden": true
   },
   "outputs": [],
   "source": [
    "import pandas as pd\n",
    "df = pd.DataFrame.from_records(sampler.get_blobs(flat=True, discard=100, thin=30))\n",
    "corner.corner(df[[\"alpha\", \"beta\", \"sigma\"]], truths=true_params);"
   ]
  },
  {
   "cell_type": "code",
   "execution_count": null,
   "metadata": {
    "hidden": true
   },
   "outputs": [],
   "source": [
    "fig, axes = plt.subplots(3, figsize=(10, 7), sharex=True)\n",
    "samples = sampler.get_chain()\n",
    "labels = [\"alpha\", \"beta\", \"logs\"]\n",
    "\n",
    "for i in range(ndim):\n",
    "    ax = axes[i]\n",
    "    ax.plot(samples[:, :, i], \"k\", alpha = .3)\n",
    "    ax.set_xlim(0, len(samples))\n",
    "    ax.set_ylabel(labels[i])\n",
    "    ax.yaxis.set_label_coords(-0.1, 0.5)"
   ]
  },
  {
   "cell_type": "code",
   "execution_count": null,
   "metadata": {
    "hidden": true
   },
   "outputs": [],
   "source": [
    "tau = sampler.get_autocorr_time()\n",
    "print(tau)"
   ]
  }
 ],
 "metadata": {
  "kernelspec": {
   "display_name": "Python 3",
   "language": "python",
   "name": "python3"
  },
  "language_info": {
   "codemirror_mode": {
    "name": "ipython",
    "version": 3
   },
   "file_extension": ".py",
   "mimetype": "text/x-python",
   "name": "python",
   "nbconvert_exporter": "python",
   "pygments_lexer": "ipython3",
   "version": "3.6.10"
  },
  "toc": {
   "base_numbering": 1,
   "nav_menu": {},
   "number_sections": true,
   "sideBar": true,
   "skip_h1_title": false,
   "title_cell": "Table of Contents",
   "title_sidebar": "Contents",
   "toc_cell": false,
   "toc_position": {},
   "toc_section_display": true,
   "toc_window_display": false
  }
 },
 "nbformat": 4,
 "nbformat_minor": 2
}
