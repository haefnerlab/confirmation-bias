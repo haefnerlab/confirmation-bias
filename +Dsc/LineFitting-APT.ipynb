{
 "cells": [
  {
   "cell_type": "markdown",
   "metadata": {},
   "source": [
    "# Line Fitting with APT"
   ]
  },
  {
   "cell_type": "markdown",
   "metadata": {},
   "source": [
    "## Imports"
   ]
  },
  {
   "cell_type": "code",
   "execution_count": 3,
   "metadata": {},
   "outputs": [],
   "source": [
    "from delfi.simulator.BaseSimulator import BaseSimulator\n",
    "import os\n",
    "\n",
    "import delfi.distribution as dd\n",
    "import delfi.generator as dg\n",
    "import numpy as np\n",
    "import delfi.inference as infer\n",
    "from delfi.summarystats.BaseSummaryStats import BaseSummaryStats\n",
    "import copy\n",
    "from mat4py import loadmat\n",
    "import logging\n",
    "import datetime\n",
    "from scipy.io import savemat\n",
    "import matplotlib.pyplot as plt\n",
    "from delfi.utils.viz import samples_nd"
   ]
  },
  {
   "cell_type": "markdown",
   "metadata": {},
   "source": [
    "## Simulator and Model"
   ]
  },
  {
   "cell_type": "code",
   "execution_count": 4,
   "metadata": {},
   "outputs": [],
   "source": [
    "def linearNoiseSimulator(x, params, seed=None):\n",
    "    alpha = params[0]\n",
    "    beta = params[1]\n",
    "    sigma = params[2]\n",
    "    N = x.shape[0]\n",
    "    #np.random.seed(123)\n",
    "    y = x * alpha + beta + sigma * np.random.randn(N)\n",
    "\n",
    "    return y\n",
    "class linearNoiseModel(BaseSimulator):\n",
    "    def __init__(self, x,dim_param, seed = None):\n",
    "\n",
    "\n",
    "        super().__init__(dim_param=dim_param, seed=seed)\n",
    "        self.x = x\n",
    "        self.simulate = linearNoiseSimulator\n",
    "\n",
    "    def gen_single(self, params):\n",
    "\n",
    "        params = np.asarray(params)\n",
    "\n",
    "        assert params.ndim == 1, 'params.ndim must be 1'\n",
    "\n",
    "        hh_seed = self.gen_newseed()\n",
    "\n",
    "        y = self.simulate(self.x, params, seed=hh_seed)\n",
    "\n",
    "        return {'y': y.reshape(-1)}\n",
    "class linearNoiseStats(BaseSummaryStats):\n",
    "\n",
    "    def __init__(self,x):\n",
    "        self.x = x\n",
    "    def calc(self,repetition_list):\n",
    "        seg = 100\n",
    "        stats = []\n",
    "\n",
    "        for r in range(len(repetition_list)):\n",
    "            # data = repetition_list[r]\n",
    "            # x = np.asarray(data['x'])\n",
    "            # y = np.asarray(data['y'])\n",
    "\n",
    "            # sum_stats_vec = np.concatenate((x,y))\n",
    "            # stats.append(sum_stats_vec)\n",
    "            data = repetition_list[r]\n",
    "            x = self.x\n",
    "            y = np.asarray(data['y'])\n",
    "            N = x.shape[0]\n",
    "            x_sorted = np.asarray([x for x,y in sorted(zip(x,y))])\n",
    "            y_sorted = np.asarray([y for x,y in sorted(zip(x,y))])\n",
    "            sum_stats_vec = []\n",
    "            for i in np.arange(seg):\n",
    "                ind = np.arange(i*int(N/seg),(i+1)*int(N/seg)).astype(int)\n",
    "                y_min = np.min(y_sorted[ind])\n",
    "                y_max = np.max(y_sorted[ind])\n",
    "                sum_stats_vec.extend([x_sorted[ind[0]], x_sorted[ind[-1]], y_min,y_max])\n",
    "            stats.append(sum_stats_vec)\n",
    "        return stats"
   ]
  },
  {
   "cell_type": "markdown",
   "metadata": {},
   "source": [
    "## Generate Data"
   ]
  },
  {
   "cell_type": "code",
   "execution_count": 5,
   "metadata": {},
   "outputs": [
    {
     "data": {
      "text/plain": [
       "<matplotlib.collections.PathCollection at 0x1a1f4b49b0>"
      ]
     },
     "execution_count": 5,
     "metadata": {},
     "output_type": "execute_result"
    },
    {
     "data": {
      "image/png": "[encoded data removed]",
      "text/plain": [
       "<Figure size 432x288 with 1 Axes>"
      ]
     },
     "metadata": {
      "needs_background": "light"
     },
     "output_type": "display_data"
    }
   ],
   "source": [
    "alpha = .5\n",
    "beta = -2\n",
    "sigma = 0.1\n",
    "true_params = [alpha,beta,sigma]\n",
    "labels_params = ['alpha','beta','sigma']\n",
    "# generate observation\n",
    "N = 1000\n",
    "x0 = np.random.uniform(0, 10, N)\n",
    "\n",
    "# define linear noise model\n",
    "m = linearNoiseModel(x0,dim_param = 3)\n",
    "\n",
    "# generate and show observation\n",
    "obs0 = m.gen_single(true_params)\n",
    "plt.figure()\n",
    "plt.scatter(x0,obs0['y'], marker='.')"
   ]
  },
  {
   "cell_type": "markdown",
   "metadata": {},
   "source": [
    "## Summary Statistics"
   ]
  },
  {
   "cell_type": "code",
   "execution_count": 6,
   "metadata": {},
   "outputs": [],
   "source": [
    "class linearNoiseStats(BaseSummaryStats):\n",
    "\n",
    "    def __init__(self,x):\n",
    "        self.x = x\n",
    "    def calc(self,repetition_list):\n",
    "        seg = 100\n",
    "        stats = []\n",
    "\n",
    "        for r in range(len(repetition_list)):\n",
    "            # data = repetition_list[r]\n",
    "            # x = np.asarray(data['x'])\n",
    "            # y = np.asarray(data['y'])\n",
    "\n",
    "            # sum_stats_vec = np.concatenate((x,y))\n",
    "            # stats.append(sum_stats_vec)\n",
    "            data = repetition_list[r]\n",
    "            x = self.x\n",
    "            y = np.asarray(data['y'])\n",
    "            N = x.shape[0]\n",
    "            x_sorted = np.asarray([x for x,y in sorted(zip(x,y))])\n",
    "            y_sorted = np.asarray([y for x,y in sorted(zip(x,y))])\n",
    "            sum_stats_vec = []\n",
    "            for i in np.arange(seg):\n",
    "                ind = np.arange(i*int(N/seg),(i+1)*int(N/seg)).astype(int)\n",
    "                y_min = np.min(y_sorted[ind])\n",
    "                y_max = np.max(y_sorted[ind])\n",
    "                sum_stats_vec.extend([x_sorted[ind[0]], x_sorted[ind[-1]], y_min,y_max])\n",
    "            stats.append(sum_stats_vec)\n",
    "        return stats"
   ]
  },
  {
   "cell_type": "code",
   "execution_count": 7,
   "metadata": {},
   "outputs": [],
   "source": [
    "class linearNoiseStatsAlternate(BaseSummaryStats):\n",
    "    \n",
    "    def __init__(self, x):\n",
    "        self.x = x\n",
    "        \n",
    "    def calc(self,repetition_list):\n",
    "        stats = []\n",
    "    \n",
    "        for r in range(len(repetition_list)):\n",
    "            data = repetition_list[r]\n",
    "            y = np.asarray(data['y'])\n",
    "            y_sorted = [yi for xi,yi in sorted(zip(self.x,y))]\n",
    "            y_sorted = np.array(y_sorted)\n",
    "            sum_stats_vec = []\n",
    "            bins = np.linspace(y_sorted[0], y_sorted[-1], 50)\n",
    "            digitized = np.digitize(y_sorted, bins, 'left')\n",
    "            bin_means = [y_sorted[digitized == i].mean() for i in range(len(bins))]\n",
    "            bin_vars = [y_sorted[digitized == i].var() for i in range(len(bins))]\n",
    "            var = np.mean(bin_vars)\n",
    "            stats.extend(bin_means)\n",
    "            stats.extend(bin_vars)\n",
    "            stats.append(var)\n",
    "        return [stats]"
   ]
  },
  {
   "cell_type": "code",
   "execution_count": 8,
   "metadata": {},
   "outputs": [],
   "source": [
    "prior_min = np.array([-10,-10,0])\n",
    "prior_max = np.array([10,10,5])\n",
    "seed_p = 2\n",
    "prior =  dd.Uniform(lower = prior_min , upper = prior_max,seed = seed_p)"
   ]
  },
  {
   "cell_type": "code",
   "execution_count": 9,
   "metadata": {},
   "outputs": [],
   "source": [
    "s = linearNoiseStats(x0)\n",
    "g = dg.Default(model=m, prior=prior, summary=s)\n",
    "\n",
    "# define statsitics summary of observation\n",
    "obs_stats = s.calc([obs0])"
   ]
  },
  {
   "cell_type": "code",
   "execution_count": 10,
   "metadata": {},
   "outputs": [
    {
     "data": {
      "application/vnd.jupyter.widget-view+json": {
       "model_id": "0f5197b6850945799694f2f31b076d49",
       "version_major": 2,
       "version_minor": 0
      },
      "text/plain": [
       "HBox(children=(FloatProgress(value=0.0, max=2000.0), HTML(value='')))"
      ]
     },
     "metadata": {},
     "output_type": "display_data"
    },
    {
     "name": "stdout",
     "output_type": "stream",
     "text": [
      "\n"
     ]
    },
    {
     "data": {
      "application/vnd.jupyter.widget-view+json": {
       "model_id": "b40312211f674c709c2898e879675212",
       "version_major": 2,
       "version_minor": 0
      },
      "text/plain": [
       "HBox(children=(FloatProgress(value=0.0, max=2000.0), HTML(value='')))"
      ]
     },
     "metadata": {},
     "output_type": "display_data"
    },
    {
     "name": "stdout",
     "output_type": "stream",
     "text": [
      "\n"
     ]
    },
    {
     "data": {
      "application/vnd.jupyter.widget-view+json": {
       "model_id": "cb2d7bcabd89438192bfe57522e2127f",
       "version_major": 2,
       "version_minor": 0
      },
      "text/plain": [
       "HBox(children=(FloatProgress(value=0.0, max=1000.0), HTML(value='')))"
      ]
     },
     "metadata": {},
     "output_type": "display_data"
    },
    {
     "name": "stdout",
     "output_type": "stream",
     "text": [
      "\n"
     ]
    },
    {
     "data": {
      "application/vnd.jupyter.widget-view+json": {
       "model_id": "ab0dd19c6d974d5fb5948c1cebce5491",
       "version_major": 2,
       "version_minor": 0
      },
      "text/plain": [
       "HBox(children=(FloatProgress(value=0.0, max=1000.0), HTML(value='')))"
      ]
     },
     "metadata": {},
     "output_type": "display_data"
    },
    {
     "name": "stdout",
     "output_type": "stream",
     "text": [
      "\n"
     ]
    },
    {
     "data": {
      "application/vnd.jupyter.widget-view+json": {
       "model_id": "ad93fa3c8e74499b835d86e0ba0bef6e",
       "version_major": 2,
       "version_minor": 0
      },
      "text/plain": [
       "HBox(children=(FloatProgress(value=0.0, max=300000.0), HTML(value='')))"
      ]
     },
     "metadata": {},
     "output_type": "display_data"
    },
    {
     "name": "stdout",
     "output_type": "stream",
     "text": [
      "Stopping at epoch 89.0, training loss = -4.089907333531673, validation loss = -3.7168708258346657\n",
      "\n",
      "\n"
     ]
    },
    {
     "data": {
      "application/vnd.jupyter.widget-view+json": {
       "model_id": "07b99887fd584755a2eb527e1de345e7",
       "version_major": 2,
       "version_minor": 0
      },
      "text/plain": [
       "HBox(children=(FloatProgress(value=0.0, max=3000.0), HTML(value='')))"
      ]
     },
     "metadata": {},
     "output_type": "display_data"
    },
    {
     "name": "stdout",
     "output_type": "stream",
     "text": [
      "\n"
     ]
    },
    {
     "data": {
      "application/vnd.jupyter.widget-view+json": {
       "model_id": "3464dc2936b9432d8adf76ded732e7c3",
       "version_major": 2,
       "version_minor": 0
      },
      "text/plain": [
       "HBox(children=(FloatProgress(value=0.0, max=3000.0), HTML(value='')))"
      ]
     },
     "metadata": {},
     "output_type": "display_data"
    },
    {
     "name": "stdout",
     "output_type": "stream",
     "text": [
      "\n"
     ]
    },
    {
     "data": {
      "application/vnd.jupyter.widget-view+json": {
       "model_id": "7647094c11ad441c9ea7ae35bd29248c",
       "version_major": 2,
       "version_minor": 0
      },
      "text/plain": [
       "HBox(children=(FloatProgress(value=0.0, max=300000.0), HTML(value='')))"
      ]
     },
     "metadata": {},
     "output_type": "display_data"
    },
    {
     "name": "stdout",
     "output_type": "stream",
     "text": [
      "Stopping at epoch 77.0, training loss = -5.19908278122399, validation loss = -5.236785333552617\n",
      "\n",
      "\n"
     ]
    }
   ],
   "source": [
    "# training schedule\n",
    "n_train = 3000\n",
    "n_rounds = 2\n",
    "seed_inf = 1\n",
    "pilot_samples = 2000\n",
    "\n",
    "val_frac = 0.05\n",
    "# network setup\n",
    "n_hiddens = [200,50,50]\n",
    "minibatch = 500\n",
    "epochs = 100\n",
    "\n",
    "prior_norm = True\n",
    "\n",
    "# MAF parameters\n",
    "density = 'maf'\n",
    "n_mades = 5         # number of MADES\n",
    "\n",
    "# inference object\n",
    "res = infer.SNPEC(g,\n",
    "                obs=obs_stats,\n",
    "                n_hiddens=n_hiddens,\n",
    "                seed=seed_inf,\n",
    "                pilot_samples=pilot_samples,\n",
    "                n_mades=n_mades,\n",
    "                prior_norm=prior_norm,\n",
    "                density=density)\n",
    "\n",
    "# train\n",
    "log, _, posterior = res.run(\n",
    "                    n_train=n_train,\n",
    "                    n_rounds=n_rounds,\n",
    "                    minibatch=minibatch,\n",
    "                epochs=epochs,\n",
    "                silent_fail=False,\n",
    "                proposal='prior',\n",
    "                val_frac=val_frac,\n",
    "                verbose=True,)"
   ]
  },
  {
   "cell_type": "code",
   "execution_count": 11,
   "metadata": {},
   "outputs": [
    {
     "data": {
      "image/png": "[encoded data removed]",
      "text/plain": [
       "<Figure size 1080x360 with 1 Axes>"
      ]
     },
     "metadata": {
      "needs_background": "light"
     },
     "output_type": "display_data"
    },
    {
     "data": {
      "image/png": "[encoded data removed]",
      "text/plain": [
       "<Figure size 500x500 with 9 Axes>"
      ]
     },
     "metadata": {},
     "output_type": "display_data"
    }
   ],
   "source": [
    "fig = plt.figure(figsize=(15,5))\n",
    "\n",
    "plt.plot(log[0]['loss'],lw=2)\n",
    "plt.xlabel('iteration')\n",
    "plt.ylabel('loss')\n",
    "\n",
    "prior_min = g.prior.lower\n",
    "prior_max = g.prior.upper\n",
    "prior_lims = np.concatenate((prior_min.reshape(-1,1),prior_max.reshape(-1,1)),axis=1)\n",
    "\n",
    "posterior_samples = posterior[0].gen(10000)\n",
    "\n",
    "###################\n",
    "# colors\n",
    "hex2rgb = lambda h: tuple(int(h[i:i+2], 16) for i in (0, 2, 4))\n",
    "\n",
    "# RGB colors in [0, 255]\n",
    "col = {}\n",
    "col['GT']      = hex2rgb('30C05D')\n",
    "col['SNPE']    = hex2rgb('2E7FE8')\n",
    "col['SAMPLE1'] = hex2rgb('8D62BC')\n",
    "col['SAMPLE2'] = hex2rgb('AF99EF')\n",
    "\n",
    "# convert to RGB colors in [0, 1]\n",
    "for k, v in col.items():\n",
    "    col[k] = tuple([i/255 for i in v])\n",
    "\n",
    "###################\n",
    "# posterior\n",
    "fig, axes = samples_nd(posterior_samples,\n",
    "                       limits=prior_lims,\n",
    "                       ticks=prior_lims,\n",
    "                       labels=labels_params,\n",
    "                       fig_size=(5,5),\n",
    "                       diag='kde',\n",
    "                       upper='kde',\n",
    "                       hist_diag={'bins': 50},\n",
    "                       hist_offdiag={'bins': 50},\n",
    "                       kde_diag={'bins': 50, 'color': col['SNPE']},\n",
    "                       kde_offdiag={'bins': 50},\n",
    "                       points=[true_params],\n",
    "                       points_offdiag={'markersize': 5},\n",
    "                       points_colors=[col['GT']],\n",
    "                       title='');"
   ]
  },
  {
   "cell_type": "code",
   "execution_count": 30,
   "metadata": {},
   "outputs": [],
   "source": [
    "np.random.seed(1223)\n",
    "k = posterior[0].gen(100"
   ]
  },
  {
   "cell_type": "code",
   "execution_count": 31,
   "metadata": {},
   "outputs": [
    {
     "data": {
      "text/plain": [
       "array([ 0.13748271, -1.31937665,  0.03324569,  0.45171856, -1.88610041,\n",
       "        0.13073827])"
      ]
     },
     "execution_count": 31,
     "metadata": {},
     "output_type": "execute_result"
    }
   ],
   "source": [
    "k.flatten()"
   ]
  },
  {
   "cell_type": "code",
   "execution_count": 32,
   "metadata": {},
   "outputs": [
    {
     "data": {
      "text/plain": [
       "array([[ 0.13748271, -1.31937665,  0.03324569],\n",
       "       [ 0.45171856, -1.88610041,  0.13073827]])"
      ]
     },
     "execution_count": 32,
     "metadata": {},
     "output_type": "execute_result"
    }
   ],
   "source": [
    "k"
   ]
  },
  {
   "cell_type": "code",
   "execution_count": 38,
   "metadata": {},
   "outputs": [],
   "source": [
    "kt = np.reshape(k, k.size, order='F').reshape(k.shape[1], k.shape[0])"
   ]
  },
  {
   "cell_type": "code",
   "execution_count": 39,
   "metadata": {},
   "outputs": [
    {
     "data": {
      "text/plain": [
       "array([0.13748271, 0.45171856])"
      ]
     },
     "execution_count": 39,
     "metadata": {},
     "output_type": "execute_result"
    }
   ],
   "source": [
    "kt[0]"
   ]
  },
  {
   "cell_type": "code",
   "execution_count": null,
   "metadata": {},
   "outputs": [],
   "source": []
  }
 ],
 "metadata": {
  "kernelspec": {
   "display_name": "Python 3",
   "language": "python",
   "name": "python3"
  },
  "language_info": {
   "codemirror_mode": {
    "name": "ipython",
    "version": 3
   },
   "file_extension": ".py",
   "mimetype": "text/x-python",
   "name": "python",
   "nbconvert_exporter": "python",
   "pygments_lexer": "ipython3",
   "version": "3.7.1"
  },
  "toc": {
   "base_numbering": 1,
   "nav_menu": {},
   "number_sections": true,
   "sideBar": true,
   "skip_h1_title": false,
   "title_cell": "Table of Contents",
   "title_sidebar": "Contents",
   "toc_cell": false,
   "toc_position": {},
   "toc_section_display": true,
   "toc_window_display": false
  }
 },
 "nbformat": 4,
 "nbformat_minor": 2
}