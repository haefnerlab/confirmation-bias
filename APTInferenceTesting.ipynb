{
 "cells": [
  {
   "cell_type": "code",
   "execution_count": 1,
   "metadata": {},
   "outputs": [],
   "source": [
    "import matlab.engine\n",
    "from delfi.simulator.BaseSimulator import BaseSimulator\n",
    "import scipy.io\n",
    "import os\n",
    "\n",
    "import delfi.distribution as dd\n",
    "import delfi.generator as dg\n",
    "import numpy as np\n",
    "import delfi.inference as infer"
   ]
  },
  {
   "cell_type": "code",
   "execution_count": 2,
   "metadata": {},
   "outputs": [],
   "source": [
    "def ConfirmationBiasSimulator(params, signals, engine):\n",
    "    # run matlab code run.vectorized and read results\n",
    "    print(\"Hello I am in Simulator\")\n",
    "    print(type(signals))\n",
    "    print(type(params[0]))\n",
    "    p = {'prior_C': float(params[0]),\n",
    "      'gamma':   float(params[1]),\n",
    "      'samples': float(params[2]),\n",
    "      'lapse':   float(params[3]),\n",
    "      'sensor_noise': float(params[4])}\n",
    "    signals = np.ndarray.tolist(signals)\n",
    "    print(type(p))\n",
    "    print(p)\n",
    "    sim_results = engine.Model.simple_script(p, signals)\n",
    "    return sim_results\n",
    "# define a simulator class linking to the real simulator\n",
    "\n",
    "class ConfirmationBias(BaseSimulator):\n",
    "    \n",
    "    def __init__(self, signal, engine, seed = None):\n",
    "        \n",
    "        dim_param = 5\n",
    "        super().__init__(dim_param = dim_param,seed = seed)\n",
    "        self.signal = signal\n",
    "        self.simulate = ConfirmationBiasSimulator\n",
    "        self.engine = engine\n",
    "        \n",
    "    def gen_single(self,params):\n",
    "        \n",
    "        sim_results = self.simulate(params,self.signal, self.engine)\n",
    "        return sim_results"
   ]
  },
  {
   "cell_type": "code",
   "execution_count": 3,
   "metadata": {},
   "outputs": [],
   "source": [
    "from delfi.summarystats.BaseSummaryStats import BaseSummaryStats\n",
    "class ConfirmationBiasStats(BaseSummaryStats):\n",
    "    def __init__(self,choice):\n",
    "        self.choice = choice\n",
    "    def calc(self):\n",
    "        stats = self.choice\n",
    "        return stats"
   ]
  },
  {
   "cell_type": "code",
   "execution_count": 4,
   "metadata": {},
   "outputs": [],
   "source": [
    "# load the MATLAB engine\n",
    "engine = matlab.engine.start_matlab()\n",
    "\n",
    "datafolder = '../dscData'\n",
    "filename = 'syntheticData_priorC5.mat'\n",
    "syntheticData = scipy.io.loadmat(os.path.join(datafolder, filename))\n",
    "# load data\n",
    "choice = syntheticData['sim_results'][0][0][1]\n",
    "signals = syntheticData['signals']\n",
    "\n",
    "# define prior over model parameters\n",
    "seed_p = 2\n",
    "prior_min = np.array([0,0,1,0,0])\n",
    "prior_max = np.array([1,1,100,1,5])\n",
    "prior =  dd.Uniform(lower = prior_min , upper = prior_max,seed = seed_p)\n",
    "\n",
    "# inference parameters\n",
    "seed_inf = 1\n",
    "\n",
    "pilot_samples = 2000\n",
    "\n",
    "# training schedule\n",
    "n_train = 2000\n",
    "n_rounds = 1\n",
    "\n",
    "# fitting setup\n",
    "minibatch = 100\n",
    "epochs = 100\n",
    "val_frac = 0.05\n",
    "\n",
    "# network setup\n",
    "n_hiddens = [50,50]\n",
    "\n",
    "# convenience\n",
    "prior_norm = True\n",
    "\n",
    "# MAF parameters\n",
    "density = 'maf'\n",
    "n_mades = 5         # number of MADES\n",
    "\n",
    "\n",
    "# define generator class\n",
    "s = ConfirmationBiasStats(choice)\n",
    "# use multiple processes of simulators\n",
    "n_processes = 1\n",
    "seeds_m = np.arange(1,n_processes+1,1)\n",
    "m = []\n",
    "for i in range(n_processes):\n",
    "    m.append(ConfirmationBias(signals, engine, seeds_m[i]))\n",
    "g = dg.MPGenerator(models=m, prior=prior, summary=s)"
   ]
  },
  {
   "cell_type": "code",
   "execution_count": null,
   "metadata": {},
   "outputs": [
    {
     "name": "stdout",
     "output_type": "stream",
     "text": [
      "Hello I am in Simulator\n",
      "<class 'numpy.ndarray'>\n",
      "<class 'numpy.float64'>\n",
      "<class 'dict'>\n",
      "{'prior_C': 0.43599490214200376, 'gamma': 0.025926231827891333, 'samples': 55.41658530999221, 'lapse': 0.4353223926182769, 'sensor_noise': 2.101839010437445}\n"
     ]
    }
   ],
   "source": [
    "# do inference\n",
    "# inference object\n",
    "res = infer.SNPEC(g,\n",
    "                obs=choice,\n",
    "                n_hiddens=n_hiddens,\n",
    "                seed=seed_inf,\n",
    "                pilot_samples=pilot_samples,\n",
    "                n_mades=n_mades,\n",
    "                prior_norm=prior_norm,\n",
    "                density=density)\n",
    "\n",
    "# train\n",
    "log, _, posterior = res.run(\n",
    "                    n_train=n_train,\n",
    "                    n_rounds=n_rounds,\n",
    "                    minibatch=minibatch,\n",
    "                epochs=epochs,\n",
    "                silent_fail=False,\n",
    "                proposal='prior',\n",
    "                val_frac=val_frac,\n",
    "                verbose=True,)"
   ]
  },
  {
   "cell_type": "code",
   "execution_count": 5,
   "metadata": {},
   "outputs": [
    {
     "name": "stdout",
     "output_type": "stream",
     "text": [
      "4\n"
     ]
    }
   ],
   "source": [
    "import matlab.engine\n",
    "import time\n",
    "eng = matlab.engine.start_matlab()\n",
    "\n",
    "a = 2\n",
    "b = 2\n",
    "t = time.time()\n",
    "a = eng.Model.simple_script(a, b, nargout=1)\n",
    "elapsed = time.time() - t\n",
    "\n",
    "print(a)\n",
    "eng.quit()"
   ]
  },
  {
   "cell_type": "code",
   "execution_count": null,
   "metadata": {},
   "outputs": [],
   "source": [
    "type(signals)"
   ]
  },
  {
   "cell_type": "code",
   "execution_count": null,
   "metadata": {},
   "outputs": [],
   "source": [
    "params"
   ]
  },
  {
   "cell_type": "code",
   "execution_count": null,
   "metadata": {},
   "outputs": [],
   "source": [
    "par"
   ]
  }
 ],
 "metadata": {
  "kernelspec": {
   "display_name": "Python [conda env:defli36]",
   "language": "python",
   "name": "conda-env-defli36-py"
  },
  "language_info": {
   "codemirror_mode": {
    "name": "ipython",
    "version": 3
   },
   "file_extension": ".py",
   "mimetype": "text/x-python",
   "name": "python",
   "nbconvert_exporter": "python",
   "pygments_lexer": "ipython3",
   "version": "3.6.10"
  }
 },
 "nbformat": 4,
 "nbformat_minor": 2
}
